{
  "cells": [
    {
      "cell_type": "markdown",
      "metadata": {
        "id": "view-in-github",
        "colab_type": "text"
      },
      "source": [
        "<a href=\"https://colab.research.google.com/github/jeongrok/graphdata_analysis/blob/main/CNN_GraphMolecularData.ipynb\" target=\"_parent\"><img src=\"https://colab.research.google.com/assets/colab-badge.svg\" alt=\"Open In Colab\"/></a>"
      ]
    },
    {
      "cell_type": "code",
      "execution_count": null,
      "metadata": {
        "colab": {
          "base_uri": "https://localhost:8080/"
        },
        "id": "VAzjYuD5WUaL",
        "outputId": "d34f7fc5-8537-448b-8439-bfe4cc13d8bd"
      },
      "outputs": [
        {
          "output_type": "stream",
          "name": "stdout",
          "text": [
            "Mounted at /content/drive\n"
          ]
        }
      ],
      "source": [
        "from google.colab import drive\n",
        "drive.mount('/content/drive')"
      ]
    },
    {
      "cell_type": "code",
      "execution_count": null,
      "metadata": {
        "id": "H-5X_wb0Xg-X"
      },
      "outputs": [],
      "source": [
        "import numpy as np\n",
        "import pandas as pd\n",
        "import matplotlib.pyplot as plt\n",
        "import itertools\n",
        "\n",
        "import torch\n",
        "import torch.nn as nn\n",
        "\n",
        "import sklearn as sk\n",
        "from sklearn.svm import LinearSVC\n",
        "from sklearn.pipeline import make_pipeline\n",
        "from sklearn.preprocessing import StandardScaler\n",
        "from sklearn import metrics"
      ]
    },
    {
      "cell_type": "code",
      "execution_count": null,
      "metadata": {
        "id": "0MuBGJIRYQmi"
      },
      "outputs": [],
      "source": [
        "smiles_data = pd.read_csv('/content/drive/MyDrive/CSE6740/classification.txt', sep=\" \")"
      ]
    },
    {
      "cell_type": "code",
      "execution_count": null,
      "metadata": {
        "id": "qWkWWPOeY_Vu",
        "colab": {
          "base_uri": "https://localhost:8080/"
        },
        "outputId": "645dd50b-565f-4406-a70d-6dedb251f715"
      },
      "outputs": [
        {
          "output_type": "stream",
          "name": "stdout",
          "text": [
            "NCCS\n",
            "C1=CC2=[N+]3C1=C(c1ccccc1)C1=CC=C4C(c5cc[n+]([Pt-2]([n+]6ccc(C7=C8C=CC9=[N+]8[Zn-2]8%10[N+]%11=C(C=CC%11=C(c%11ccccc%11)C%11=CC=C7[NH+]%118)C(c7ccccc7)=C7C=CC(=C9c8ccccc8)[NH+]7%10)cc6)([n+]6ccc(C7=C8C=CC9=C(c%10ccccc%10)C%10=[N+]%11C(=C(c%12ccccc%12)C%12=CC=C%13C(c%14ccccc%14)=C%14C=CC7=[N+]%14[Zn-2]%11([NH+]%12%13)[NH+]98)C=C%10)cc6)[n+]6ccc(C7=C8C=CC9=C(c%10ccccc%10)C%10=[N+]%11C(=C(c%12ccccc%12)C%12=CC=C%13C(c%14ccccc%14)=C%14C=CC7=[N+]%14[Zn-2]%11([NH+]%12%13)[NH+]98)C=C%10)cc6)cc5)=C5C=CC6=[N+]5[Zn-2]3([NH+]14)[NH+]1C(=C2c2ccccc2)C=CC1=C6c1ccccc1.O=S(=O)([O-])C(F)(F)F\n",
            "4\n",
            "580\n"
          ]
        }
      ],
      "source": [
        "smiles_data.shape\n",
        "\n",
        "\n",
        "maxima, minima = '', 'a'*1000\n",
        "for x in smiles_data['molecule']:\n",
        "  if len(x) < len(minima):\n",
        "    minima = x\n",
        "  if len(x) > len(maxima):\n",
        "    maxima = x\n",
        "\n",
        "print(minima)\n",
        "print(maxima)\n",
        "print(len(minima))\n",
        "print(len(maxima))\n",
        "boost_X, boost_y = smiles_data['molecule'],smiles_data['label']"
      ]
    },
    {
      "cell_type": "code",
      "execution_count": null,
      "metadata": {
        "id": "c-nvg8n_ZBr2"
      },
      "outputs": [],
      "source": [
        "SMILES_CHARS = [' ',\n",
        "                '#', '%', '(', ')', '+', '-', '.', '/',\n",
        "                '0', '1', '2', '3', '4', '5', '6', '7', '8', '9',\n",
        "                '=', '@',\n",
        "                'A', 'B', 'C', 'F', 'G', 'H', 'I', 'K', 'L', 'M', 'N', 'O', 'P',\n",
        "                'R', 'S', 'T', 'U', 'V', 'W', 'X', 'Z',\n",
        "                '[', '\\\\', ']',\n",
        "                'a', 'b', 'c', 'd', 'e', 'g', 'h', 'i', 'l', 'n', 'o', 'p', 'r',\n",
        "                's', 't', 'u']\n",
        "\n",
        "smi2index = dict( (c,i) for i,c in enumerate( SMILES_CHARS ) )\n",
        "index2smi = dict( (i,c) for i,c in enumerate( SMILES_CHARS ) )\n",
        "\n",
        "def smiles_encoder( smiles, maxlen=200):\n",
        "    X = np.zeros( ( maxlen, len( SMILES_CHARS ) ) )\n",
        "    Y = np.zeros(maxlen)\n",
        "    for i, c in enumerate( smiles ):\n",
        "        X[i, smi2index[c] ] = 1\n",
        "        Y[i] = smi2index[c]\n",
        "    return X, Y\n",
        "\n",
        "def smiles_decoder( X ):\n",
        "    smi = ''\n",
        "    X = X.argmax( axis=-1 )\n",
        "    for i in X:\n",
        "        smi += index2smi[ i ]\n",
        "    return smi"
      ]
    },
    {
      "cell_type": "code",
      "execution_count": null,
      "metadata": {
        "id": "Kx8TRg2mgAGY"
      },
      "outputs": [],
      "source": [
        "maxlen = 625\n",
        "mol = smiles_data.iloc[:,0].to_numpy()\n",
        "label = smiles_data.iloc[:,1].to_numpy()\n",
        "\n",
        "mol_svm = np.zeros((mol.shape[0],maxlen))\n",
        "mol_cnn = np.zeros((mol.shape[0],maxlen, 61))\n",
        "\n",
        "for j in range(mol.shape[0]):\n",
        "  X, Y = smiles_encoder(mol[j],maxlen)\n",
        "  mol_cnn[j,:,:] = X\n",
        "  mol_svm[j,:] = Y\n",
        "\n",
        "svm_train = mol_svm[0:30000,:]\n",
        "svm_test = mol_svm[30000:,:]\n",
        "\n",
        "mol_train = mol_svm[0:30000,:]\n",
        "mol_test = mol_svm[30000:,:]\n",
        "\n",
        "label_train = label[0:30000]\n",
        "label_test = label[30000:]"
      ]
    },
    {
      "cell_type": "code",
      "execution_count": null,
      "metadata": {
        "colab": {
          "base_uri": "https://localhost:8080/"
        },
        "id": "_PTNQAsmnnoK",
        "outputId": "9ae5e598-8ac6-4ffb-ef23-6bf838165759"
      },
      "outputs": [
        {
          "output_type": "stream",
          "name": "stdout",
          "text": [
            "0.035479099064707004\n",
            "1487\n"
          ]
        }
      ],
      "source": [
        "print(sum(label) / len(label))\n",
        "print(sum(label))"
      ]
    },
    {
      "cell_type": "code",
      "source": [
        "# mol_cnn = np.reshape(mol_cnn, (41912,1,25,25))\n",
        "mol_cnn.shape"
      ],
      "metadata": {
        "colab": {
          "base_uri": "https://localhost:8080/"
        },
        "id": "Twz14xcatY3P",
        "outputId": "59c6935a-5d0f-47ce-d293-696f7d27990d"
      },
      "execution_count": null,
      "outputs": [
        {
          "output_type": "execute_result",
          "data": {
            "text/plain": [
              "(41912, 625, 61)"
            ]
          },
          "metadata": {},
          "execution_count": 8
        }
      ]
    },
    {
      "cell_type": "code",
      "execution_count": null,
      "metadata": {
        "id": "c9vRCUQTNdy4",
        "colab": {
          "base_uri": "https://localhost:8080/"
        },
        "outputId": "6f1a63e7-697c-4e49-9e5c-b1ca4d61b39f"
      },
      "outputs": [
        {
          "output_type": "stream",
          "name": "stdout",
          "text": [
            "cuda\n"
          ]
        }
      ],
      "source": [
        "import torch.nn.functional as F\n",
        "device = torch.device(\"cuda\" if torch.cuda.is_available() else \"cpu\")\n",
        "print(device)"
      ]
    },
    {
      "cell_type": "code",
      "execution_count": null,
      "metadata": {
        "id": "Vd-1EkPkn5Wp"
      },
      "outputs": [],
      "source": [
        "import torch.optim as optim\n",
        "from torch.utils.data import DataLoader, TensorDataset\n",
        "from sklearn.model_selection import train_test_split\n",
        "\n",
        "X_train, X_test, y_train, y_test = train_test_split(mol_cnn, label, test_size=0.2, random_state=42)\n",
        "\n",
        "# converting numpy to pytorch tensors\n",
        "X_train_tensor = torch.tensor(X_train, dtype=torch.float32).to(device)\n",
        "y_train_tensor = torch.tensor(y_train, dtype=torch.float32).view(-1, 1).to(device)\n",
        "X_test_tensor = torch.tensor(X_test, dtype=torch.float32).to(device)\n",
        "y_test_tensor = torch.tensor(y_test, dtype=torch.float32).view(-1, 1).to(device)\n",
        "\n",
        "train_dataset = TensorDataset(X_train_tensor, y_train_tensor)\n",
        "test_dataset = TensorDataset(X_test_tensor, y_test_tensor)\n",
        "\n",
        "train_loader = DataLoader(train_dataset, batch_size=32, shuffle=True)\n",
        "test_loader = DataLoader(test_dataset, batch_size=32, shuffle=False)"
      ]
    },
    {
      "cell_type": "code",
      "source": [
        "for batchx, batchy in train_loader:\n",
        "  print(batchx.shape)\n",
        "  print(batchy.shape)\n",
        "  break"
      ],
      "metadata": {
        "colab": {
          "base_uri": "https://localhost:8080/"
        },
        "id": "eMCgW_OrTWwl",
        "outputId": "e73f379d-0688-41be-a3f5-21d514a25910"
      },
      "execution_count": null,
      "outputs": [
        {
          "output_type": "stream",
          "name": "stdout",
          "text": [
            "torch.Size([32, 625, 61])\n",
            "torch.Size([32, 1])\n"
          ]
        }
      ]
    },
    {
      "cell_type": "code",
      "execution_count": null,
      "metadata": {
        "id": "qtzhZZEZNz3i"
      },
      "outputs": [],
      "source": [
        "class CNN(nn.Module):\n",
        "    def __init__(self):\n",
        "        super(CNN, self).__init__()\n",
        "        self.conv1 = nn.Conv1d(61, 64, kernel_size=3, stride = 1, padding=1)\n",
        "        self.relu = nn.ReLU()\n",
        "        self.maxpool = nn.MaxPool1d(kernel_size=2, stride=2)\n",
        "        self.conv2 = nn.Conv1d(64, 128, kernel_size=3,stride = 1, padding=1)\n",
        "        self.conv3 = nn.Conv1d(128, 256, kernel_size=3,stride = 1, padding=1)\n",
        "        self.conv4 = nn.Conv1d(256, 512, kernel_size=3,stride = 1, padding=1)\n",
        "        self.fc1 = nn.Linear(512 * (625 // 16), 512)\n",
        "        self.fc2 = nn.Linear(512, 1)\n",
        "        self.sigmoid = nn.Sigmoid()\n",
        "\n",
        "    def forward(self, x):\n",
        "        x = x.permute(0,2,1)\n",
        "        x = self.conv1(x)\n",
        "        x = self.relu(x)\n",
        "        x = self.maxpool(x)\n",
        "        x = self.conv2(x)\n",
        "        x = self.relu(x)\n",
        "        x = self.maxpool(x)\n",
        "        x = self.conv3(x)\n",
        "        x = self.relu(x)\n",
        "        x = self.maxpool(x)\n",
        "        x = self.conv4(x)\n",
        "        x = self.relu(x)\n",
        "        x = self.maxpool(x)\n",
        "        x = x.view(-1, 512 * (625//16))\n",
        "        x = self.fc1(x)\n",
        "        x = self.relu(x)\n",
        "        x = self.fc2(x)\n",
        "        x = self.sigmoid(x)\n",
        "        return x\n",
        "\n",
        "# Instantiate the model, define loss function, and optimizer\n",
        "model = CNN().to(device)\n",
        "criterion = nn.BCELoss()\n",
        "optimizer = optim.SGD(model.parameters(), lr=0.1)"
      ]
    },
    {
      "cell_type": "code",
      "execution_count": null,
      "metadata": {
        "colab": {
          "base_uri": "https://localhost:8080/"
        },
        "id": "hw5a-oueCTF3",
        "outputId": "e550bc35-c3f6-47d5-a685-b5fc1cb6a565"
      },
      "outputs": [
        {
          "output_type": "stream",
          "name": "stdout",
          "text": [
            "0.06838345431501323\n",
            "Epoch 1/100, Test Accuracy: 0.9642, F1 Score: 0.0000\n",
            "0.06838345431501323\n",
            "Epoch 2/100, Test Accuracy: 0.9642, F1 Score: 0.0000\n",
            "0.06838345431501323\n",
            "Epoch 3/100, Test Accuracy: 0.9642, F1 Score: 0.0000\n",
            "0.06838345431501323\n",
            "Epoch 4/100, Test Accuracy: 0.9642, F1 Score: 0.0000\n",
            "0.06838345431501323\n",
            "Epoch 5/100, Test Accuracy: 0.9642, F1 Score: 0.0000\n",
            "0.06838345431501323\n",
            "Epoch 6/100, Test Accuracy: 0.9653, F1 Score: 0.1803\n",
            "0.06838345431501323\n",
            "Epoch 7/100, Test Accuracy: 0.9652, F1 Score: 0.1512\n",
            "0.06838345431501323\n",
            "Epoch 8/100, Test Accuracy: 0.9650, F1 Score: 0.0872\n",
            "0.06838345431501323\n",
            "Epoch 9/100, Test Accuracy: 0.9645, F1 Score: 0.2624\n",
            "0.06838345431501323\n",
            "Epoch 10/100, Test Accuracy: 0.9656, F1 Score: 0.2131\n",
            "0.06838345431501323\n",
            "Epoch 11/100, Test Accuracy: 0.9655, F1 Score: 0.1525\n",
            "0.06838345431501323\n",
            "Epoch 12/100, Test Accuracy: 0.9656, F1 Score: 0.1579\n",
            "0.06838345431501323\n",
            "Epoch 13/100, Test Accuracy: 0.9660, F1 Score: 0.2480\n",
            "0.06838345431501323\n",
            "Epoch 14/100, Test Accuracy: 0.9652, F1 Score: 0.3048\n",
            "0.06838345431501323\n",
            "Epoch 15/100, Test Accuracy: 0.9658, F1 Score: 0.1329\n",
            "0.06838345431501323\n",
            "Epoch 16/100, Test Accuracy: 0.9665, F1 Score: 0.2173\n",
            "0.06838345431501323\n",
            "Epoch 17/100, Test Accuracy: 0.9661, F1 Score: 0.1696\n",
            "0.06838345431501323\n",
            "Epoch 18/100, Test Accuracy: 0.9667, F1 Score: 0.2228\n",
            "0.06838345431501323\n",
            "Epoch 19/100, Test Accuracy: 0.9653, F1 Score: 0.3022\n",
            "0.06838345431501323\n",
            "Epoch 20/100, Test Accuracy: 0.9656, F1 Score: 0.1166\n",
            "0.06838345431501323\n",
            "Epoch 21/100, Test Accuracy: 0.9670, F1 Score: 0.2108\n",
            "0.06838345431501323\n",
            "Epoch 22/100, Test Accuracy: 0.9655, F1 Score: 0.3326\n",
            "0.06838345431501323\n",
            "Epoch 23/100, Test Accuracy: 0.9670, F1 Score: 0.2284\n",
            "0.06838345431501323\n",
            "Epoch 24/100, Test Accuracy: 0.9671, F1 Score: 0.2500\n",
            "0.06838345431501323\n",
            "Epoch 25/100, Test Accuracy: 0.9678, F1 Score: 0.3382\n",
            "0.06838345431501323\n",
            "Epoch 26/100, Test Accuracy: 0.9674, F1 Score: 0.2178\n",
            "0.06838345431501323\n",
            "Epoch 27/100, Test Accuracy: 0.9673, F1 Score: 0.1988\n",
            "0.06838345431501323\n",
            "Epoch 28/100, Test Accuracy: 0.9674, F1 Score: 0.3636\n",
            "0.06838345431501323\n",
            "Epoch 29/100, Test Accuracy: 0.9684, F1 Score: 0.3823\n",
            "0.06838345431501323\n",
            "Epoch 30/100, Test Accuracy: 0.9672, F1 Score: 0.2165\n",
            "0.06838345431501323\n",
            "Epoch 31/100, Test Accuracy: 0.9687, F1 Score: 0.3316\n",
            "0.06838345431501323\n",
            "Epoch 32/100, Test Accuracy: 0.9574, F1 Score: 0.4306\n",
            "0.06838345431501323\n",
            "Epoch 33/100, Test Accuracy: 0.9695, F1 Score: 0.3632\n",
            "0.06838345431501323\n",
            "Epoch 34/100, Test Accuracy: 0.9690, F1 Score: 0.2896\n",
            "0.06838345431501323\n",
            "Epoch 35/100, Test Accuracy: 0.9687, F1 Score: 0.4329\n",
            "0.06838345431501323\n",
            "Epoch 36/100, Test Accuracy: 0.9689, F1 Score: 0.3040\n",
            "0.06838345431501323\n",
            "Epoch 37/100, Test Accuracy: 0.9692, F1 Score: 0.3175\n",
            "0.06838345431501323\n",
            "Epoch 38/100, Test Accuracy: 0.9680, F1 Score: 0.2556\n",
            "0.06838345431501323\n",
            "Epoch 39/100, Test Accuracy: 0.9594, F1 Score: 0.4463\n",
            "0.06838345431501323\n",
            "Epoch 40/100, Test Accuracy: 0.9611, F1 Score: 0.3633\n",
            "0.06838345431501323\n",
            "Epoch 41/100, Test Accuracy: 0.9686, F1 Score: 0.4220\n",
            "0.06838345431501323\n",
            "Epoch 42/100, Test Accuracy: 0.9690, F1 Score: 0.4170\n",
            "0.06838345431501323\n",
            "Epoch 43/100, Test Accuracy: 0.9588, F1 Score: 0.4372\n",
            "0.06838936421513554\n",
            "Epoch 44/100, Test Accuracy: 0.9664, F1 Score: 0.3677\n",
            "0.0684149855907781\n",
            "Epoch 45/100, Test Accuracy: 0.9617, F1 Score: 0.4110\n",
            "0.0684801107681657\n",
            "Epoch 46/100, Test Accuracy: 0.9639, F1 Score: 0.4501\n",
            "0.06851370851370851\n",
            "Epoch 47/100, Test Accuracy: 0.9618, F1 Score: 0.4265\n",
            "0.0694253545840035\n",
            "Epoch 48/100, Test Accuracy: 0.9674, F1 Score: 0.4371\n",
            "0.069307797857122\n",
            "Epoch 49/100, Test Accuracy: 0.9672, F1 Score: 0.3736\n",
            "0.06956776556776557\n",
            "Epoch 50/100, Test Accuracy: 0.9618, F1 Score: 0.3750\n",
            "0.07231411252246489\n",
            "Epoch 51/100, Test Accuracy: 0.9680, F1 Score: 0.4724\n",
            "0.07138346814204528\n",
            "Epoch 52/100, Test Accuracy: 0.9571, F1 Score: 0.3878\n",
            "0.0750577002118309\n",
            "Epoch 53/100, Test Accuracy: 0.9676, F1 Score: 0.4426\n",
            "0.08043367779095376\n",
            "Epoch 54/100, Test Accuracy: 0.9666, F1 Score: 0.4043\n",
            "0.08383064373742011\n",
            "Epoch 55/100, Test Accuracy: 0.9677, F1 Score: 0.3991\n",
            "0.07451115784187565\n",
            "Epoch 56/100, Test Accuracy: 0.9631, F1 Score: 0.4492\n",
            "0.09354559066908345\n",
            "Epoch 57/100, Test Accuracy: 0.9690, F1 Score: 0.4170\n",
            "0.08427105889034822\n",
            "Epoch 58/100, Test Accuracy: 0.9642, F1 Score: 0.4485\n",
            "0.09406450590379585\n",
            "Epoch 59/100, Test Accuracy: 0.9672, F1 Score: 0.4259\n",
            "0.09147657213316894\n",
            "Epoch 60/100, Test Accuracy: 0.9641, F1 Score: 0.4577\n",
            "0.08950384557381993\n",
            "Epoch 61/100, Test Accuracy: 0.9654, F1 Score: 0.4223\n",
            "0.09783638986194107\n",
            "Epoch 62/100, Test Accuracy: 0.9656, F1 Score: 0.4308\n",
            "0.10126258317693226\n",
            "Epoch 63/100, Test Accuracy: 0.9677, F1 Score: 0.4121\n",
            "0.10807119770564938\n",
            "Epoch 64/100, Test Accuracy: 0.9656, F1 Score: 0.4331\n",
            "0.10260621515321777\n",
            "Epoch 65/100, Test Accuracy: 0.9639, F1 Score: 0.4420\n",
            "0.11198641445351196\n",
            "Epoch 66/100, Test Accuracy: 0.9665, F1 Score: 0.4206\n",
            "0.11159161417692957\n",
            "Epoch 67/100, Test Accuracy: 0.9672, F1 Score: 0.4161\n",
            "0.12314555451810355\n",
            "Epoch 68/100, Test Accuracy: 0.9667, F1 Score: 0.4497\n",
            "0.10909425118330958\n",
            "Epoch 69/100, Test Accuracy: 0.9627, F1 Score: 0.4381\n",
            "0.1308277306293398\n",
            "Epoch 70/100, Test Accuracy: 0.9671, F1 Score: 0.3812\n",
            "0.1270877944325482\n",
            "Epoch 71/100, Test Accuracy: 0.9656, F1 Score: 0.4725\n",
            "0.136201950659782\n",
            "Epoch 72/100, Test Accuracy: 0.9664, F1 Score: 0.4245\n",
            "0.1516932907348243\n",
            "Epoch 73/100, Test Accuracy: 0.9659, F1 Score: 0.4370\n",
            "0.12668765675863172\n",
            "Epoch 74/100, Test Accuracy: 0.9650, F1 Score: 0.3984\n",
            "0.14926123860421253\n",
            "Epoch 75/100, Test Accuracy: 0.9680, F1 Score: 0.4298\n",
            "0.15487995824634654\n",
            "Epoch 76/100, Test Accuracy: 0.9678, F1 Score: 0.4304\n",
            "0.1505008241409915\n",
            "Epoch 77/100, Test Accuracy: 0.9660, F1 Score: 0.4172\n",
            "0.10441131195848176\n",
            "Epoch 78/100, Test Accuracy: 0.9534, F1 Score: 0.4103\n",
            "0.16676040494938135\n",
            "Epoch 79/100, Test Accuracy: 0.9673, F1 Score: 0.3938\n",
            "0.16567799567311045\n",
            "Epoch 80/100, Test Accuracy: 0.9690, F1 Score: 0.4444\n",
            "0.1813044142355277\n",
            "Epoch 81/100, Test Accuracy: 0.9676, F1 Score: 0.4163\n",
            "0.1970778681720073\n",
            "Epoch 82/100, Test Accuracy: 0.9671, F1 Score: 0.4103\n",
            "0.20536332179930794\n",
            "Epoch 83/100, Test Accuracy: 0.9679, F1 Score: 0.4215\n",
            "0.21706135137606292\n",
            "Epoch 84/100, Test Accuracy: 0.9681, F1 Score: 0.4132\n",
            "0.21841935780660596\n",
            "Epoch 85/100, Test Accuracy: 0.9677, F1 Score: 0.4222\n",
            "0.2040570740931752\n",
            "Epoch 86/100, Test Accuracy: 0.9664, F1 Score: 0.4535\n",
            "0.21228650630421175\n",
            "Epoch 87/100, Test Accuracy: 0.9666, F1 Score: 0.4167\n",
            "0.22577270565858298\n",
            "Epoch 88/100, Test Accuracy: 0.9683, F1 Score: 0.4458\n",
            "0.22468294529623317\n",
            "Epoch 89/100, Test Accuracy: 0.9673, F1 Score: 0.4408\n",
            "0.2624944714727997\n",
            "Epoch 90/100, Test Accuracy: 0.9684, F1 Score: 0.4536\n",
            "0.2519902345823161\n",
            "Epoch 91/100, Test Accuracy: 0.9681, F1 Score: 0.4449\n",
            "0.2599364940326289\n",
            "Epoch 92/100, Test Accuracy: 0.9681, F1 Score: 0.4233\n",
            "0.24736896946962594\n",
            "Epoch 93/100, Test Accuracy: 0.9676, F1 Score: 0.4646\n",
            "0.2406975565243841\n",
            "Epoch 94/100, Test Accuracy: 0.9672, F1 Score: 0.4353\n",
            "0.23228962818003915\n",
            "Epoch 95/100, Test Accuracy: 0.9684, F1 Score: 0.4201\n",
            "0.14814352574102962\n",
            "Epoch 96/100, Test Accuracy: 0.9660, F1 Score: 0.4530\n",
            "0.12259665081662188\n",
            "Epoch 97/100, Test Accuracy: 0.9624, F1 Score: 0.4365\n",
            "0.10336569861105065\n",
            "Epoch 98/100, Test Accuracy: 0.9668, F1 Score: 0.4009\n",
            "0.15215997948980897\n",
            "Epoch 99/100, Test Accuracy: 0.9641, F1 Score: 0.4200\n",
            "0.14363570303984496\n",
            "Epoch 100/100, Test Accuracy: 0.9666, F1 Score: 0.3886\n",
            "Training Complete\n"
          ]
        }
      ],
      "source": [
        "from sklearn.metrics import f1_score\n",
        "\n",
        "for epoch in range(100):\n",
        "    model.train()\n",
        "    for inputs, labels in train_loader:\n",
        "        optimizer.zero_grad()\n",
        "        outputs = model(inputs)\n",
        "        loss = criterion(outputs, labels)\n",
        "        loss.backward()\n",
        "        optimizer.step()\n",
        "\n",
        "    # Evaluation\n",
        "    model.eval()\n",
        "    total_loss = 0\n",
        "    all_preds_train, all_labels_train = [], []\n",
        "    with torch.no_grad():\n",
        "        correct = 0\n",
        "        total = 0\n",
        "        all_predictions = []\n",
        "        all_labels = []\n",
        "        for batch_x, batch_y in train_loader:\n",
        "          output = model(batch_x)\n",
        "          total_loss += loss.item()\n",
        "        # Convert logits to probabilities using sigmoid activation\n",
        "          probabilities = torch.sigmoid(output)\n",
        "          predictions = (probabilities > 0.5).float()\n",
        "          all_preds_train.extend(predictions.cpu().numpy())\n",
        "          all_labels_train.extend(batch_y.cpu().numpy())\n",
        "\n",
        "    # Calculate F1 score on training set\n",
        "    train_f1 = f1_score(all_labels_train, all_preds_train)\n",
        "    print(train_f1)\n",
        "    with torch.no_grad():\n",
        "        for inputs, labels in test_loader:\n",
        "            outputs = model(inputs)\n",
        "            predicted = (outputs > 0.5).float()\n",
        "            total += labels.size(0)\n",
        "            correct += (predicted == labels).sum().item()\n",
        "            all_predictions.extend(predicted.cpu().numpy())\n",
        "            all_labels.extend(labels.cpu().numpy())\n",
        "    accuracy = correct / total\n",
        "    f1 = f1_score(all_labels, all_predictions)\n",
        "    print(f'Epoch {epoch + 1}/{100}, Test Accuracy: {accuracy:.4f}, F1 Score: {f1:.4f}')\n",
        "\n",
        "print(\"Training Complete\")"
      ]
    },
    {
      "cell_type": "code",
      "execution_count": null,
      "metadata": {
        "colab": {
          "background_save": true
        },
        "id": "Z4rriZpJIru0",
        "outputId": "1f011925-4cef-4345-c628-82007e8f66a3"
      },
      "outputs": [
        {
          "name": "stdout",
          "output_type": "stream",
          "text": [
            "Epoch 1/100, Test Accuracy: 0.9642, F1 Score: 0.0000\n",
            "Epoch 2/100, Test Accuracy: 0.9642, F1 Score: 0.0000\n",
            "Epoch 3/100, Test Accuracy: 0.9645, F1 Score: 0.0132\n",
            "Epoch 4/100, Test Accuracy: 0.9659, F1 Score: 0.1227\n",
            "Epoch 5/100, Test Accuracy: 0.9650, F1 Score: 0.0518\n",
            "Epoch 6/100, Test Accuracy: 0.9654, F1 Score: 0.0938\n",
            "Epoch 7/100, Test Accuracy: 0.9653, F1 Score: 0.1046\n",
            "Epoch 8/100, Test Accuracy: 0.9654, F1 Score: 0.2246\n",
            "Epoch 9/100, Test Accuracy: 0.9665, F1 Score: 0.1994\n",
            "Epoch 10/100, Test Accuracy: 0.9653, F1 Score: 0.2402\n",
            "Epoch 11/100, Test Accuracy: 0.9652, F1 Score: 0.1512\n",
            "Epoch 12/100, Test Accuracy: 0.9640, F1 Score: 0.2844\n",
            "Epoch 13/100, Test Accuracy: 0.9611, F1 Score: 0.2788\n",
            "Epoch 14/100, Test Accuracy: 0.9643, F1 Score: 0.2274\n",
            "Epoch 15/100, Test Accuracy: 0.9645, F1 Score: 0.2280\n",
            "Epoch 16/100, Test Accuracy: 0.9577, F1 Score: 0.2431\n",
            "Epoch 17/100, Test Accuracy: 0.9654, F1 Score: 0.2246\n",
            "Epoch 18/100, Test Accuracy: 0.9565, F1 Score: 0.2744\n",
            "Epoch 19/100, Test Accuracy: 0.9645, F1 Score: 0.2938\n",
            "Epoch 20/100, Test Accuracy: 0.9648, F1 Score: 0.2455\n",
            "Epoch 21/100, Test Accuracy: 0.9629, F1 Score: 0.2506\n",
            "Epoch 22/100, Test Accuracy: 0.9624, F1 Score: 0.2518\n",
            "Epoch 23/100, Test Accuracy: 0.9580, F1 Score: 0.2574\n",
            "Epoch 24/100, Test Accuracy: 0.9643, F1 Score: 0.2506\n",
            "Epoch 25/100, Test Accuracy: 0.9573, F1 Score: 0.3115\n",
            "Epoch 26/100, Test Accuracy: 0.9525, F1 Score: 0.2630\n",
            "Epoch 27/100, Test Accuracy: 0.9625, F1 Score: 0.2698\n",
            "Epoch 28/100, Test Accuracy: 0.9587, F1 Score: 0.2967\n",
            "Epoch 29/100, Test Accuracy: 0.9605, F1 Score: 0.2562\n",
            "Epoch 30/100, Test Accuracy: 0.9575, F1 Score: 0.2880\n",
            "Epoch 31/100, Test Accuracy: 0.9629, F1 Score: 0.2682\n",
            "Epoch 32/100, Test Accuracy: 0.9590, F1 Score: 0.2356\n",
            "Epoch 33/100, Test Accuracy: 0.9625, F1 Score: 0.2452\n",
            "Epoch 34/100, Test Accuracy: 0.9606, F1 Score: 0.2795\n",
            "Epoch 35/100, Test Accuracy: 0.9599, F1 Score: 0.2533\n",
            "Epoch 36/100, Test Accuracy: 0.9614, F1 Score: 0.2863\n",
            "Epoch 37/100, Test Accuracy: 0.9587, F1 Score: 0.2669\n",
            "Epoch 38/100, Test Accuracy: 0.9629, F1 Score: 0.2883\n",
            "Epoch 39/100, Test Accuracy: 0.9631, F1 Score: 0.2660\n",
            "Epoch 40/100, Test Accuracy: 0.9643, F1 Score: 0.2544\n",
            "Epoch 41/100, Test Accuracy: 0.9617, F1 Score: 0.2754\n",
            "Epoch 42/100, Test Accuracy: 0.9590, F1 Score: 0.2650\n",
            "Epoch 43/100, Test Accuracy: 0.9600, F1 Score: 0.2796\n",
            "Epoch 44/100, Test Accuracy: 0.9621, F1 Score: 0.2773\n",
            "Epoch 45/100, Test Accuracy: 0.9633, F1 Score: 0.3000\n",
            "Epoch 46/100, Test Accuracy: 0.9610, F1 Score: 0.2845\n",
            "Epoch 47/100, Test Accuracy: 0.9640, F1 Score: 0.2412\n",
            "Epoch 48/100, Test Accuracy: 0.9641, F1 Score: 0.2918\n",
            "Epoch 49/100, Test Accuracy: 0.9625, F1 Score: 0.2896\n",
            "Epoch 50/100, Test Accuracy: 0.9627, F1 Score: 0.2771\n",
            "Epoch 51/100, Test Accuracy: 0.9622, F1 Score: 0.2908\n",
            "Epoch 52/100, Test Accuracy: 0.9628, F1 Score: 0.2710\n",
            "Epoch 53/100, Test Accuracy: 0.9636, F1 Score: 0.2721\n",
            "Epoch 54/100, Test Accuracy: 0.9606, F1 Score: 0.2431\n",
            "Epoch 55/100, Test Accuracy: 0.9616, F1 Score: 0.2477\n",
            "Epoch 56/100, Test Accuracy: 0.9611, F1 Score: 0.3180\n",
            "Epoch 57/100, Test Accuracy: 0.9611, F1 Score: 0.2691\n",
            "Epoch 58/100, Test Accuracy: 0.9639, F1 Score: 0.2837\n",
            "Epoch 59/100, Test Accuracy: 0.9612, F1 Score: 0.2826\n",
            "Epoch 60/100, Test Accuracy: 0.9628, F1 Score: 0.2909\n",
            "Epoch 61/100, Test Accuracy: 0.9636, F1 Score: 0.3177\n",
            "Epoch 62/100, Test Accuracy: 0.9615, F1 Score: 0.3054\n",
            "Epoch 63/100, Test Accuracy: 0.9641, F1 Score: 0.3175\n",
            "Epoch 64/100, Test Accuracy: 0.9642, F1 Score: 0.3023\n",
            "Epoch 65/100, Test Accuracy: 0.9637, F1 Score: 0.3091\n",
            "Epoch 66/100, Test Accuracy: 0.9634, F1 Score: 0.2943\n",
            "Epoch 67/100, Test Accuracy: 0.9631, F1 Score: 0.2993\n",
            "Epoch 68/100, Test Accuracy: 0.9596, F1 Score: 0.3124\n",
            "Epoch 69/100, Test Accuracy: 0.9635, F1 Score: 0.2850\n",
            "Epoch 70/100, Test Accuracy: 0.9619, F1 Score: 0.2864\n",
            "Epoch 71/100, Test Accuracy: 0.9600, F1 Score: 0.2263\n",
            "Epoch 72/100, Test Accuracy: 0.9614, F1 Score: 0.2735\n",
            "Epoch 73/100, Test Accuracy: 0.9590, F1 Score: 0.2681\n",
            "Epoch 74/100, Test Accuracy: 0.9628, F1 Score: 0.2607\n",
            "Epoch 75/100, Test Accuracy: 0.9606, F1 Score: 0.2568\n",
            "Epoch 76/100, Test Accuracy: 0.9599, F1 Score: 0.2821\n",
            "Epoch 77/100, Test Accuracy: 0.9615, F1 Score: 0.2676\n",
            "Epoch 78/100, Test Accuracy: 0.9614, F1 Score: 0.2768\n",
            "Epoch 79/100, Test Accuracy: 0.9604, F1 Score: 0.2207\n",
            "Epoch 80/100, Test Accuracy: 0.9578, F1 Score: 0.2686\n",
            "Epoch 81/100, Test Accuracy: 0.9586, F1 Score: 0.2570\n",
            "Epoch 82/100, Test Accuracy: 0.9615, F1 Score: 0.2901\n",
            "Epoch 83/100, Test Accuracy: 0.9635, F1 Score: 0.2714\n",
            "Epoch 84/100, Test Accuracy: 0.9637, F1 Score: 0.2897\n",
            "Epoch 85/100, Test Accuracy: 0.9636, F1 Score: 0.2956\n",
            "Epoch 86/100, Test Accuracy: 0.9612, F1 Score: 0.2664\n",
            "Epoch 87/100, Test Accuracy: 0.9628, F1 Score: 0.2676\n",
            "Epoch 88/100, Test Accuracy: 0.9625, F1 Score: 0.2765\n",
            "Epoch 89/100, Test Accuracy: 0.9614, F1 Score: 0.2603\n",
            "Epoch 90/100, Test Accuracy: 0.9617, F1 Score: 0.2914\n",
            "Epoch 91/100, Test Accuracy: 0.9618, F1 Score: 0.2825\n",
            "Epoch 92/100, Test Accuracy: 0.9635, F1 Score: 0.2817\n",
            "Epoch 93/100, Test Accuracy: 0.9615, F1 Score: 0.2676\n",
            "Epoch 94/100, Test Accuracy: 0.9634, F1 Score: 0.2877\n",
            "Epoch 95/100, Test Accuracy: 0.9637, F1 Score: 0.2796\n",
            "Epoch 96/100, Test Accuracy: 0.9630, F1 Score: 0.2791\n",
            "Epoch 97/100, Test Accuracy: 0.9634, F1 Score: 0.2844\n",
            "Epoch 98/100, Test Accuracy: 0.9633, F1 Score: 0.2736\n",
            "Epoch 99/100, Test Accuracy: 0.9630, F1 Score: 0.2689\n",
            "Epoch 100/100, Test Accuracy: 0.9631, F1 Score: 0.2831\n"
          ]
        }
      ],
      "source": [
        "# Best results after hyper parameter tuning (lr 0.0005)"
      ]
    },
    {
      "cell_type": "code",
      "source": [],
      "metadata": {
        "id": "5CgrbKQRZnXd"
      },
      "execution_count": null,
      "outputs": []
    }
  ],
  "metadata": {
    "colab": {
      "provenance": [],
      "gpuType": "T4",
      "machine_shape": "hm",
      "include_colab_link": true
    },
    "kernelspec": {
      "display_name": "Python 3",
      "name": "python3"
    },
    "language_info": {
      "name": "python"
    },
    "accelerator": "GPU"
  },
  "nbformat": 4,
  "nbformat_minor": 0
}